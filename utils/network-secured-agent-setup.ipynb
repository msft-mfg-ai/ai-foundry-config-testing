{
 "cells": [
  {
   "cell_type": "markdown",
   "metadata": {},
   "source": [
    "# HTTP Requests in Python (needs updates for Foundry)\n",
    "This notebook runs the HTTP requests provided in the `test.http` file using Python."
   ]
  },
  {
   "cell_type": "code",
   "execution_count": null,
   "metadata": {
    "vscode": {
     "languageId": "shellscript"
    }
   },
   "outputs": [],
   "source": [
    "# Install required packages\n",
    "\n",
    "!pip install requests azure.identity"
   ]
  },
  {
   "cell_type": "code",
   "execution_count": null,
   "metadata": {},
   "outputs": [],
   "source": [
    "import requests\n",
    "import json\n",
    "from azure.identity import DefaultAzureCredential\n",
    "from azure.core.credentials import AccessToken\n",
    "\n",
    "# Define variables\n",
    "subscription_id = '00000000-0000-0000-0000-000000000000'\n",
    "rg = 'dummy-rg'\n",
    "capability_name = 'dummy-caphost'\n",
    "hub_name = 'dummy-hub'\n",
    "project_name = '=dummy-project'\n",
    "vnet_name = 'dummy-vnet'\n",
    "subnet_name = 'dummy-subnet'\n",
    "openAiService = 'dummy-openai-service'\n",
    "subnet_id = f'/subscriptions/{subscription_id}/resourceGroups/{rg}/providers/Microsoft.Network/virtualNetworks/{vnet_name}/subnets/{subnet_name}'\n",
    "base_url = f'https://management.azure.com/subscriptions/{subscription_id}/resourceGroups/{rg}/providers/Microsoft.MachineLearningServices/workspaces/'\n",
    "\n",
    "# Get token using DefaultAzureCredential\n",
    "credential = DefaultAzureCredential()\n",
    "token = credential.get_token(\"https://management.azure.com/.default\")\n",
    "\n",
    "# Define headers\n",
    "headers = {\n",
    "    'Authorization': f'Bearer {token.token}',\n",
    "    'Content-Type': 'application/json'\n",
    "}\n",
    "\n",
    "# Define base URL\n",
    "base_url = f'https://management.azure.com/subscriptions/{subscription_id}/resourceGroups/{rg}/providers/Microsoft.MachineLearningServices/workspaces/'\n"
   ]
  },
  {
   "cell_type": "markdown",
   "metadata": {},
   "source": [
    "### Create Hub Capability Host"
   ]
  },
  {
   "cell_type": "code",
   "execution_count": null,
   "metadata": {},
   "outputs": [],
   "source": [
    "url = f'{base_url}{hub_name}/capabilityHosts/{capability_name}?api-version=2024-10-01-preview'\n",
    "payload = {\n",
    "  \"properties\": {\n",
    "    \"capabilityHostKind\": \"Agents\",\n",
    "    \"customerSubnet\": subnet_id\n",
    "  }\n",
    "}\n",
    "#print(json.dumps(payload, indent=4))\n",
    "response = requests.put(url, headers=headers, data=json.dumps(payload))\n",
    "print(json.dumps(response.json(), indent=4))"
   ]
  },
  {
   "cell_type": "markdown",
   "metadata": {},
   "source": [
    "### Get Hub Capability Host"
   ]
  },
  {
   "cell_type": "code",
   "execution_count": 59,
   "metadata": {},
   "outputs": [],
   "source": [
    "url = f'{base_url}{hub_name}/capabilityHosts/{capability_name}?api-version=2024-10-01-preview'\n",
    "print(url)\n",
    "response = requests.get(url, headers=headers)\n",
    "print(json.dumps(response.json(), indent=4))"
   ]
  },
  {
   "cell_type": "markdown",
   "metadata": {},
   "source": [
    "### Delete Hub Capability Host\n",
    "Capability host needs to be deleted if it's in **Failed** state. Project capability needs to be deleted before hub capability."
   ]
  },
  {
   "cell_type": "code",
   "execution_count": null,
   "metadata": {},
   "outputs": [],
   "source": [
    "url = f'{base_url}{hub_name}/capabilityHosts/{capability_name}?api-version=2024-10-01-preview'\n",
    "# avoid incidentally deleting the capability host\n",
    "delete = False\n",
    "if delete:\n",
    "    response = requests.delete(url, headers=headers)\n",
    "    print(json.dumps(response.json(), indent=4))"
   ]
  },
  {
   "cell_type": "markdown",
   "metadata": {},
   "source": [
    "### Create Project Capability Host"
   ]
  },
  {
   "cell_type": "code",
   "execution_count": null,
   "metadata": {},
   "outputs": [],
   "source": [
    "url = f'{base_url}{project_name}/capabilityHosts/{capability_name}?api-version=2024-10-01-preview'\n",
    "payload = {\n",
    "    \"properties\": {\n",
    "        \"capabilityHostKind\": \"Agents\",\n",
    "        \"aiServicesConnections\": [f\"{hub_name}-connection-AIServices_aoai\"],\n",
    "        \"vectorStoreConnections\": [f\"{hub_name}-connection-AISearch\"],\n",
    "        \"storageConnections\": [f\"{project_name}/workspaceblobstore\"]\n",
    "    }\n",
    "}\n",
    "response = requests.put(url, headers=headers, data=json.dumps(payload))\n",
    "print(json.dumps(response.json(), indent=4))"
   ]
  },
  {
   "cell_type": "markdown",
   "metadata": {},
   "source": [
    "### Get Project Capability Host"
   ]
  },
  {
   "cell_type": "code",
   "execution_count": 60,
   "metadata": {},
   "outputs": [],
   "source": [
    "url = f'{base_url}{project_name}/capabilityHosts/{capability_name}?api-version=2024-10-01-preview'\n",
    "response = requests.get(url, headers=headers)\n",
    "print(json.dumps(response.json(), indent=4))"
   ]
  },
  {
   "cell_type": "markdown",
   "metadata": {},
   "source": [
    "### Delete Project Capability Host"
   ]
  },
  {
   "cell_type": "code",
   "execution_count": null,
   "metadata": {},
   "outputs": [],
   "source": [
    "url = f'{base_url}{project_name}/capabilityHosts/{capability_name}?api-version=2024-10-01-preview'\n",
    "# avoid incidentally deleting the capability host\n",
    "delete = False\n",
    "if delete:\n",
    "    response = requests.delete(url, headers=headers)\n",
    "    print(json.dumps(response.json(), indent=4))"
   ]
  },
  {
   "cell_type": "markdown",
   "metadata": {},
   "source": [
    "### POST to Azure OpenAI Service"
   ]
  },
  {
   "cell_type": "code",
   "execution_count": null,
   "metadata": {},
   "outputs": [],
   "source": [
    "ai_token = credential.get_token(\"https://cognitiveservices.azure.com/.default\")\n",
    "url = f'https://{openAiService}.openai.azure.com/openai/deployments/gpt-4o-mini/completions?api-version=2024-10-21'\n",
    "headers = {\n",
    "    'Content-Type': 'application/json',\n",
    "    'Authorization': 'Bearer ' + ai_token.token,\n",
    "}\n",
    "payload = {\n",
    "    \"messages\": [\n",
    "        {\n",
    "            \"role\": \"system\",\n",
    "            \"content\": \"You are a helpful assistant.\"\n",
    "        },\n",
    "        {\n",
    "            \"role\": \"user\",\n",
    "            \"content\": \"Does Azure OpenAI support customer managed keys?\"\n",
    "        },\n",
    "        {\n",
    "            \"role\": \"assistant\",\n",
    "            \"content\": \"Yes, customer managed keys are supported by Azure OpenAI.\"\n",
    "        },\n",
    "        {\n",
    "            \"role\": \"user\",\n",
    "            \"content\": \"Do other Azure AI services support this too?\"\n",
    "        }\n",
    "    ]\n",
    "}\n",
    "response = requests.post(url, headers=headers, data=json.dumps(payload))\n",
    "print(json.dumps(response.json(), indent=4))"
   ]
  }
 ],
 "metadata": {
  "kernelspec": {
   "display_name": ".venv",
   "language": "python",
   "name": "python3"
  },
  "language_info": {
   "codemirror_mode": {
    "name": "ipython",
    "version": 3
   },
   "file_extension": ".py",
   "mimetype": "text/x-python",
   "name": "python",
   "nbconvert_exporter": "python",
   "pygments_lexer": "ipython3",
   "version": "3.11.11"
  }
 },
 "nbformat": 4,
 "nbformat_minor": 4
}

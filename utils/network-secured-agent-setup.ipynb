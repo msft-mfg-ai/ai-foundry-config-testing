{
 "cells": [
  {
   "cell_type": "markdown",
   "metadata": {},
   "source": [
    "# HTTP Requests in Python (needs updates for Foundry)\n",
    "This notebook runs the HTTP requests provided in the `test.http` file using Python."
   ]
  },
  {
   "cell_type": "code",
   "execution_count": null,
   "metadata": {
    "vscode": {
     "languageId": "shellscript"
    }
   },
   "outputs": [],
   "source": [
    "# Install required packages\n",
    "\n",
    "!pip install requests azure.identity python-dotenv"
   ]
  },
  {
   "cell_type": "code",
   "execution_count": null,
   "metadata": {},
   "outputs": [],
   "source": [
    "import requests\n",
    "import json\n",
    "import os\n",
    "from azure.identity import DefaultAzureCredential\n",
    "from azure.core.credentials import AccessToken\n",
    "from dotenv import load_dotenv\n",
    "\n",
    "load_dotenv(verbose=True, override=True)\n",
    "\n",
    "# Define variables\n",
    "subscription_id = os.environ.get('subscriptionId', '00000000-0000-0000-0000-000000000000')\n",
    "rg = os.environ.get('rg', 'dummy-rg')\n",
    "capability_name = os.environ.get('capabilityName', 'dummy-caphost')\n",
    "foundry_name = os.environ.get('foundryName', 'dummy-foundry')\n",
    "project_name = os.environ.get('projectName', 'dummy-project')\n",
    "base_url = f'https://management.azure.com/subscriptions/{subscription_id}/resourceGroups/{rg}/providers/Microsoft.CognitiveServices/accounts/'\n",
    "\n",
    "# Get token using DefaultAzureCredential\n",
    "credential = DefaultAzureCredential()\n",
    "token = credential.get_token(\"https://management.azure.com/.default\")\n",
    "\n",
    "# Define headers\n",
    "headers = {\n",
    "    'Authorization': f'Bearer {token.token}',\n",
    "    'Content-Type': 'application/json'\n",
    "}"
   ]
  },
  {
   "cell_type": "markdown",
   "metadata": {},
   "source": [
    "### Get Hub Capability Host"
   ]
  },
  {
   "cell_type": "code",
   "execution_count": null,
   "metadata": {},
   "outputs": [],
   "source": [
    "url = f'{base_url}{foundry_name}/capabilityHosts/?api-version=2025-06-01'\n",
    "response = requests.get(url, headers=headers)\n",
    "response_json = response.json()\n",
    "print(json.dumps(response_json, indent=4))\n",
    "print(f\"Foundry using subnet: {response_json['value'][0]['properties']['customerSubnet'] if 'value' in response_json and len(response_json['value']) > 0 else 'No subnet found'}\")"
   ]
  },
  {
   "cell_type": "markdown",
   "metadata": {},
   "source": [
    "### Create Hub Capability Host"
   ]
  },
  {
   "cell_type": "code",
   "execution_count": null,
   "metadata": {},
   "outputs": [],
   "source": [
    "url = f'{base_url}{foundry_name}/capabilityHosts/{foundry_name}?api-version=2025-06-01'\n",
    "payload = {\n",
    "  \"properties\": {\n",
    "    \"capabilityHostKind\": \"Agents\",\n",
    "    \"customerSubnet\": '<subnet_resource_id>'  # Replace with actual subnet resource ID\n",
    "  }\n",
    "}\n",
    "#print(json.dumps(payload, indent=4))\n",
    "response = requests.put(url, headers=headers, data=json.dumps(payload))\n",
    "print(json.dumps(response.json(), indent=4))"
   ]
  },
  {
   "cell_type": "markdown",
   "metadata": {},
   "source": [
    "### Delete Hub Capability Host\n",
    "Capability host needs to be deleted if it's in **Failed** state. Project capability needs to be deleted before hub capability."
   ]
  },
  {
   "cell_type": "code",
   "execution_count": null,
   "metadata": {},
   "outputs": [],
   "source": [
    "url = f'{base_url}{foundry_name}/capabilityHosts/{foundry_name}?api-version=2025-06-01'\n",
    "# avoid incidentally deleting the capability host\n",
    "delete = False\n",
    "if delete:\n",
    "    response = requests.delete(url, headers=headers)\n",
    "    print(json.dumps(response.json(), indent=4))"
   ]
  },
  {
   "cell_type": "markdown",
   "metadata": {},
   "source": [
    "### Create Project Capability Host"
   ]
  },
  {
   "cell_type": "code",
   "execution_count": null,
   "metadata": {},
   "outputs": [],
   "source": [
    "url = f'{base_url}{project_name}/capabilityHosts/{capability_name}?api-version=2025-06-01'\n",
    "payload = {\n",
    "    \"properties\": {\n",
    "        \"capabilityHostKind\": \"Agents\",\n",
    "        \"aiServicesConnections\": [\"<TODO - replace with actual connection name>\"],\n",
    "        \"vectorStoreConnections\": [\"<TODO - replace with actual connection name>\"],\n",
    "        \"storageConnections\": [\"<TODO - replace with actual connection name>\"],\n",
    "        \"threadStorageConnections\": [\"<TODO - replace with actual connection name>\"],\n",
    "    }\n",
    "}\n",
    "response = requests.put(url, headers=headers, data=json.dumps(payload))\n",
    "print(json.dumps(response.json(), indent=4))"
   ]
  },
  {
   "cell_type": "markdown",
   "metadata": {},
   "source": [
    "### Get Project Capability Host"
   ]
  },
  {
   "cell_type": "code",
   "execution_count": null,
   "metadata": {},
   "outputs": [],
   "source": [
    "url = f'{base_url}{foundry_name}/projects/{project_name}/capabilityHosts/{capability_name}?api-version=2025-06-01'\n",
    "response = requests.get(url, headers=headers)\n",
    "print(json.dumps(response.json(), indent=4))"
   ]
  },
  {
   "cell_type": "markdown",
   "metadata": {},
   "source": [
    "### Delete Project Capability Host"
   ]
  },
  {
   "cell_type": "code",
   "execution_count": null,
   "metadata": {},
   "outputs": [],
   "source": [
    "url = f'{base_url}{foundry_name}/projects/{project_name}/capabilityHosts/{capability_name}?api-version=2025-06-01'\n",
    "# avoid incidentally deleting the capability host\n",
    "delete = False\n",
    "if delete:\n",
    "    response = requests.delete(url, headers=headers)\n",
    "    print(json.dumps(response.json(), indent=4))"
   ]
  },
  {
   "cell_type": "markdown",
   "metadata": {},
   "source": [
    "### POST to Azure OpenAI Service"
   ]
  },
  {
   "cell_type": "code",
   "execution_count": null,
   "metadata": {},
   "outputs": [],
   "source": [
    "ai_token = credential.get_token(\"https://ai.azure.com\")\n",
    "headers = {\n",
    "    'Content-Type': 'application/json',\n",
    "    'Authorization': 'Bearer ' + ai_token.token,\n",
    "}\n",
    "\n",
    "# get deployments\n",
    "url = f'https://{foundry_name}.services.ai.azure.com/api/projects/{project_name}/deployments?api-version=v1'\n",
    "response = requests.get(url, headers=headers)\n",
    "\n",
    "# grab the first deployment name\n",
    "deployment_name = response.json().get('value', [{}])[0].get('name', None)\n",
    "print(f\"Deployment name: {deployment_name}\")\n",
    "# print(json.dumps(response.json(), indent=4))\n",
    "\n",
    "url = f'https://{foundry_name}.services.ai.azure.com/models/chat/completions?api-version=2024-05-01-preview'\n",
    "\n",
    "payload = {\n",
    "    \"messages\": [\n",
    "        {\n",
    "            \"role\": \"system\",\n",
    "            \"content\": \"You are a helpful assistant.\"\n",
    "        },\n",
    "        {\n",
    "            \"role\": \"user\",\n",
    "            \"content\": \"Does Azure OpenAI support customer managed keys?\"\n",
    "        },\n",
    "        {\n",
    "            \"role\": \"assistant\",\n",
    "            \"content\": \"Yes, customer managed keys are supported by Azure OpenAI.\"\n",
    "        },\n",
    "        {\n",
    "            \"role\": \"user\",\n",
    "            \"content\": \"Do other Azure AI services support this too?\"\n",
    "        }\n",
    "    ],\n",
    "    \"model\": deployment_name,\n",
    "\n",
    "}\n",
    "response = requests.post(url, headers=headers, data=json.dumps(payload))\n",
    "print(json.dumps(response.json(), indent=4))"
   ]
  }
 ],
 "metadata": {
  "kernelspec": {
   "display_name": ".venv",
   "language": "python",
   "name": "python3"
  },
  "language_info": {
   "codemirror_mode": {
    "name": "ipython",
    "version": 3
   },
   "file_extension": ".py",
   "mimetype": "text/x-python",
   "name": "python",
   "nbconvert_exporter": "python",
   "pygments_lexer": "ipython3",
   "version": "3.11.11"
  }
 },
 "nbformat": 4,
 "nbformat_minor": 4
}

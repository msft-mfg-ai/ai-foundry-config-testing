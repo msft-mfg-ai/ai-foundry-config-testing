{
 "cells": [
  {
   "cell_type": "markdown",
   "metadata": {},
   "source": [
    "# Testing Agents in AI Foundry\n",
    "This notebook creates and runs an agent from AI Foundry"
   ]
  },
  {
   "cell_type": "code",
   "execution_count": 5,
   "metadata": {
    "vscode": {
     "languageId": "shellscript"
    }
   },
   "outputs": [
    {
     "name": "stdout",
     "output_type": "stream",
     "text": [
      "Requirement already satisfied: requests in /home/pkarpala/projects/otis/ai-foundry-config-testing/.venv/lib/python3.11/site-packages (2.32.4)\n",
      "Requirement already satisfied: semantic-kernel>=1.34.0 in /home/pkarpala/projects/otis/ai-foundry-config-testing/.venv/lib/python3.11/site-packages (from semantic-kernel[azure]>=1.34.0) (1.34.0)\n",
      "Requirement already satisfied: charset_normalizer<4,>=2 in /home/pkarpala/projects/otis/ai-foundry-config-testing/.venv/lib/python3.11/site-packages (from requests) (3.4.2)\n",
      "Requirement already satisfied: idna<4,>=2.5 in /home/pkarpala/projects/otis/ai-foundry-config-testing/.venv/lib/python3.11/site-packages (from requests) (3.10)\n",
      "Requirement already satisfied: urllib3<3,>=1.21.1 in /home/pkarpala/projects/otis/ai-foundry-config-testing/.venv/lib/python3.11/site-packages (from requests) (2.5.0)\n",
      "Requirement already satisfied: certifi>=2017.4.17 in /home/pkarpala/projects/otis/ai-foundry-config-testing/.venv/lib/python3.11/site-packages (from requests) (2025.7.14)\n",
      "Requirement already satisfied: azure-ai-projects>=1.0.0b11 in /home/pkarpala/projects/otis/ai-foundry-config-testing/.venv/lib/python3.11/site-packages (from semantic-kernel>=1.34.0->semantic-kernel[azure]>=1.34.0) (1.0.0b12)\n",
      "Requirement already satisfied: azure-ai-agents>=1.1.0b1 in /home/pkarpala/projects/otis/ai-foundry-config-testing/.venv/lib/python3.11/site-packages (from semantic-kernel>=1.34.0->semantic-kernel[azure]>=1.34.0) (1.1.0b4)\n",
      "Requirement already satisfied: aiohttp~=3.8 in /home/pkarpala/projects/otis/ai-foundry-config-testing/.venv/lib/python3.11/site-packages (from semantic-kernel>=1.34.0->semantic-kernel[azure]>=1.34.0) (3.12.14)\n",
      "Requirement already satisfied: cloudevents~=1.0 in /home/pkarpala/projects/otis/ai-foundry-config-testing/.venv/lib/python3.11/site-packages (from semantic-kernel>=1.34.0->semantic-kernel[azure]>=1.34.0) (1.12.0)\n",
      "Requirement already satisfied: pydantic!=2.10.0,!=2.10.1,!=2.10.2,!=2.10.3,<2.12,>=2.0 in /home/pkarpala/projects/otis/ai-foundry-config-testing/.venv/lib/python3.11/site-packages (from semantic-kernel>=1.34.0->semantic-kernel[azure]>=1.34.0) (2.11.7)\n",
      "Requirement already satisfied: pydantic-settings~=2.0 in /home/pkarpala/projects/otis/ai-foundry-config-testing/.venv/lib/python3.11/site-packages (from semantic-kernel>=1.34.0->semantic-kernel[azure]>=1.34.0) (2.10.1)\n",
      "Requirement already satisfied: defusedxml~=0.7 in /home/pkarpala/projects/otis/ai-foundry-config-testing/.venv/lib/python3.11/site-packages (from semantic-kernel>=1.34.0->semantic-kernel[azure]>=1.34.0) (0.7.1)\n",
      "Requirement already satisfied: azure-identity>=1.13 in /home/pkarpala/projects/otis/ai-foundry-config-testing/.venv/lib/python3.11/site-packages (from semantic-kernel>=1.34.0->semantic-kernel[azure]>=1.34.0) (1.23.1)\n",
      "Requirement already satisfied: numpy>=1.25.0 in /home/pkarpala/projects/otis/ai-foundry-config-testing/.venv/lib/python3.11/site-packages (from semantic-kernel>=1.34.0->semantic-kernel[azure]>=1.34.0) (2.3.1)\n",
      "Requirement already satisfied: openai>=1.67 in /home/pkarpala/projects/otis/ai-foundry-config-testing/.venv/lib/python3.11/site-packages (from semantic-kernel>=1.34.0->semantic-kernel[azure]>=1.34.0) (1.96.1)\n",
      "Requirement already satisfied: openapi_core<0.20,>=0.18 in /home/pkarpala/projects/otis/ai-foundry-config-testing/.venv/lib/python3.11/site-packages (from semantic-kernel>=1.34.0->semantic-kernel[azure]>=1.34.0) (0.19.5)\n",
      "Requirement already satisfied: websockets<16,>=13 in /home/pkarpala/projects/otis/ai-foundry-config-testing/.venv/lib/python3.11/site-packages (from semantic-kernel>=1.34.0->semantic-kernel[azure]>=1.34.0) (15.0.1)\n",
      "Requirement already satisfied: aiortc>=1.9.0 in /home/pkarpala/projects/otis/ai-foundry-config-testing/.venv/lib/python3.11/site-packages (from semantic-kernel>=1.34.0->semantic-kernel[azure]>=1.34.0) (1.13.0)\n",
      "Requirement already satisfied: opentelemetry-api~=1.24 in /home/pkarpala/projects/otis/ai-foundry-config-testing/.venv/lib/python3.11/site-packages (from semantic-kernel>=1.34.0->semantic-kernel[azure]>=1.34.0) (1.35.0)\n",
      "Requirement already satisfied: opentelemetry-sdk~=1.24 in /home/pkarpala/projects/otis/ai-foundry-config-testing/.venv/lib/python3.11/site-packages (from semantic-kernel>=1.34.0->semantic-kernel[azure]>=1.34.0) (1.35.0)\n",
      "Requirement already satisfied: prance<25.4.9,>=23.6.21 in /home/pkarpala/projects/otis/ai-foundry-config-testing/.venv/lib/python3.11/site-packages (from semantic-kernel>=1.34.0->semantic-kernel[azure]>=1.34.0) (25.4.8.0)\n",
      "Requirement already satisfied: pybars4~=0.9 in /home/pkarpala/projects/otis/ai-foundry-config-testing/.venv/lib/python3.11/site-packages (from semantic-kernel>=1.34.0->semantic-kernel[azure]>=1.34.0) (0.9.13)\n",
      "Requirement already satisfied: jinja2~=3.1 in /home/pkarpala/projects/otis/ai-foundry-config-testing/.venv/lib/python3.11/site-packages (from semantic-kernel>=1.34.0->semantic-kernel[azure]>=1.34.0) (3.1.6)\n",
      "Requirement already satisfied: nest-asyncio~=1.6 in /home/pkarpala/projects/otis/ai-foundry-config-testing/.venv/lib/python3.11/site-packages (from semantic-kernel>=1.34.0->semantic-kernel[azure]>=1.34.0) (1.6.0)\n",
      "Requirement already satisfied: scipy>=1.15.1 in /home/pkarpala/projects/otis/ai-foundry-config-testing/.venv/lib/python3.11/site-packages (from semantic-kernel>=1.34.0->semantic-kernel[azure]>=1.34.0) (1.16.0)\n",
      "Requirement already satisfied: protobuf in /home/pkarpala/projects/otis/ai-foundry-config-testing/.venv/lib/python3.11/site-packages (from semantic-kernel>=1.34.0->semantic-kernel[azure]>=1.34.0) (6.31.1)\n",
      "Requirement already satisfied: typing-extensions>=4.13 in /home/pkarpala/projects/otis/ai-foundry-config-testing/.venv/lib/python3.11/site-packages (from semantic-kernel>=1.34.0->semantic-kernel[azure]>=1.34.0) (4.14.1)\n",
      "Requirement already satisfied: aiohappyeyeballs>=2.5.0 in /home/pkarpala/projects/otis/ai-foundry-config-testing/.venv/lib/python3.11/site-packages (from aiohttp~=3.8->semantic-kernel>=1.34.0->semantic-kernel[azure]>=1.34.0) (2.6.1)\n",
      "Requirement already satisfied: aiosignal>=1.4.0 in /home/pkarpala/projects/otis/ai-foundry-config-testing/.venv/lib/python3.11/site-packages (from aiohttp~=3.8->semantic-kernel>=1.34.0->semantic-kernel[azure]>=1.34.0) (1.4.0)\n",
      "Requirement already satisfied: attrs>=17.3.0 in /home/pkarpala/projects/otis/ai-foundry-config-testing/.venv/lib/python3.11/site-packages (from aiohttp~=3.8->semantic-kernel>=1.34.0->semantic-kernel[azure]>=1.34.0) (25.3.0)\n",
      "Requirement already satisfied: frozenlist>=1.1.1 in /home/pkarpala/projects/otis/ai-foundry-config-testing/.venv/lib/python3.11/site-packages (from aiohttp~=3.8->semantic-kernel>=1.34.0->semantic-kernel[azure]>=1.34.0) (1.7.0)\n",
      "Requirement already satisfied: multidict<7.0,>=4.5 in /home/pkarpala/projects/otis/ai-foundry-config-testing/.venv/lib/python3.11/site-packages (from aiohttp~=3.8->semantic-kernel>=1.34.0->semantic-kernel[azure]>=1.34.0) (6.6.3)\n",
      "Requirement already satisfied: propcache>=0.2.0 in /home/pkarpala/projects/otis/ai-foundry-config-testing/.venv/lib/python3.11/site-packages (from aiohttp~=3.8->semantic-kernel>=1.34.0->semantic-kernel[azure]>=1.34.0) (0.3.2)\n",
      "Requirement already satisfied: yarl<2.0,>=1.17.0 in /home/pkarpala/projects/otis/ai-foundry-config-testing/.venv/lib/python3.11/site-packages (from aiohttp~=3.8->semantic-kernel>=1.34.0->semantic-kernel[azure]>=1.34.0) (1.20.1)\n",
      "Requirement already satisfied: deprecation<3.0,>=2.0 in /home/pkarpala/projects/otis/ai-foundry-config-testing/.venv/lib/python3.11/site-packages (from cloudevents~=1.0->semantic-kernel>=1.34.0->semantic-kernel[azure]>=1.34.0) (2.1.0)\n",
      "Requirement already satisfied: packaging in /home/pkarpala/projects/otis/ai-foundry-config-testing/.venv/lib/python3.11/site-packages (from deprecation<3.0,>=2.0->cloudevents~=1.0->semantic-kernel>=1.34.0->semantic-kernel[azure]>=1.34.0) (25.0)\n",
      "Requirement already satisfied: MarkupSafe>=2.0 in /home/pkarpala/projects/otis/ai-foundry-config-testing/.venv/lib/python3.11/site-packages (from jinja2~=3.1->semantic-kernel>=1.34.0->semantic-kernel[azure]>=1.34.0) (3.0.2)\n",
      "Requirement already satisfied: isodate in /home/pkarpala/projects/otis/ai-foundry-config-testing/.venv/lib/python3.11/site-packages (from openapi_core<0.20,>=0.18->semantic-kernel>=1.34.0->semantic-kernel[azure]>=1.34.0) (0.7.2)\n",
      "Requirement already satisfied: jsonschema<5.0.0,>=4.18.0 in /home/pkarpala/projects/otis/ai-foundry-config-testing/.venv/lib/python3.11/site-packages (from openapi_core<0.20,>=0.18->semantic-kernel>=1.34.0->semantic-kernel[azure]>=1.34.0) (4.24.0)\n",
      "Requirement already satisfied: jsonschema-path<0.4.0,>=0.3.1 in /home/pkarpala/projects/otis/ai-foundry-config-testing/.venv/lib/python3.11/site-packages (from openapi_core<0.20,>=0.18->semantic-kernel>=1.34.0->semantic-kernel[azure]>=1.34.0) (0.3.4)\n",
      "Requirement already satisfied: more-itertools in /home/pkarpala/projects/otis/ai-foundry-config-testing/.venv/lib/python3.11/site-packages (from openapi_core<0.20,>=0.18->semantic-kernel>=1.34.0->semantic-kernel[azure]>=1.34.0) (10.7.0)\n",
      "Requirement already satisfied: openapi-schema-validator<0.7.0,>=0.6.0 in /home/pkarpala/projects/otis/ai-foundry-config-testing/.venv/lib/python3.11/site-packages (from openapi_core<0.20,>=0.18->semantic-kernel>=1.34.0->semantic-kernel[azure]>=1.34.0) (0.6.3)\n",
      "Requirement already satisfied: openapi-spec-validator<0.8.0,>=0.7.1 in /home/pkarpala/projects/otis/ai-foundry-config-testing/.venv/lib/python3.11/site-packages (from openapi_core<0.20,>=0.18->semantic-kernel>=1.34.0->semantic-kernel[azure]>=1.34.0) (0.7.2)\n",
      "Requirement already satisfied: parse in /home/pkarpala/projects/otis/ai-foundry-config-testing/.venv/lib/python3.11/site-packages (from openapi_core<0.20,>=0.18->semantic-kernel>=1.34.0->semantic-kernel[azure]>=1.34.0) (1.20.2)\n",
      "Requirement already satisfied: werkzeug<3.1.2 in /home/pkarpala/projects/otis/ai-foundry-config-testing/.venv/lib/python3.11/site-packages (from openapi_core<0.20,>=0.18->semantic-kernel>=1.34.0->semantic-kernel[azure]>=1.34.0) (3.1.1)\n",
      "Requirement already satisfied: jsonschema-specifications>=2023.03.6 in /home/pkarpala/projects/otis/ai-foundry-config-testing/.venv/lib/python3.11/site-packages (from jsonschema<5.0.0,>=4.18.0->openapi_core<0.20,>=0.18->semantic-kernel>=1.34.0->semantic-kernel[azure]>=1.34.0) (2025.4.1)\n",
      "Requirement already satisfied: referencing>=0.28.4 in /home/pkarpala/projects/otis/ai-foundry-config-testing/.venv/lib/python3.11/site-packages (from jsonschema<5.0.0,>=4.18.0->openapi_core<0.20,>=0.18->semantic-kernel>=1.34.0->semantic-kernel[azure]>=1.34.0) (0.36.2)\n",
      "Requirement already satisfied: rpds-py>=0.7.1 in /home/pkarpala/projects/otis/ai-foundry-config-testing/.venv/lib/python3.11/site-packages (from jsonschema<5.0.0,>=4.18.0->openapi_core<0.20,>=0.18->semantic-kernel>=1.34.0->semantic-kernel[azure]>=1.34.0) (0.26.0)\n",
      "Requirement already satisfied: PyYAML>=5.1 in /home/pkarpala/projects/otis/ai-foundry-config-testing/.venv/lib/python3.11/site-packages (from jsonschema-path<0.4.0,>=0.3.1->openapi_core<0.20,>=0.18->semantic-kernel>=1.34.0->semantic-kernel[azure]>=1.34.0) (6.0.2)\n",
      "Requirement already satisfied: pathable<0.5.0,>=0.4.1 in /home/pkarpala/projects/otis/ai-foundry-config-testing/.venv/lib/python3.11/site-packages (from jsonschema-path<0.4.0,>=0.3.1->openapi_core<0.20,>=0.18->semantic-kernel>=1.34.0->semantic-kernel[azure]>=1.34.0) (0.4.4)\n",
      "Requirement already satisfied: rfc3339-validator in /home/pkarpala/projects/otis/ai-foundry-config-testing/.venv/lib/python3.11/site-packages (from openapi-schema-validator<0.7.0,>=0.6.0->openapi_core<0.20,>=0.18->semantic-kernel>=1.34.0->semantic-kernel[azure]>=1.34.0) (0.1.4)\n",
      "Requirement already satisfied: lazy-object-proxy<2.0.0,>=1.7.1 in /home/pkarpala/projects/otis/ai-foundry-config-testing/.venv/lib/python3.11/site-packages (from openapi-spec-validator<0.8.0,>=0.7.1->openapi_core<0.20,>=0.18->semantic-kernel>=1.34.0->semantic-kernel[azure]>=1.34.0) (1.11.0)\n",
      "Requirement already satisfied: importlib-metadata<8.8.0,>=6.0 in /home/pkarpala/projects/otis/ai-foundry-config-testing/.venv/lib/python3.11/site-packages (from opentelemetry-api~=1.24->semantic-kernel>=1.34.0->semantic-kernel[azure]>=1.34.0) (8.7.0)\n",
      "Requirement already satisfied: zipp>=3.20 in /home/pkarpala/projects/otis/ai-foundry-config-testing/.venv/lib/python3.11/site-packages (from importlib-metadata<8.8.0,>=6.0->opentelemetry-api~=1.24->semantic-kernel>=1.34.0->semantic-kernel[azure]>=1.34.0) (3.23.0)\n",
      "Requirement already satisfied: opentelemetry-semantic-conventions==0.56b0 in /home/pkarpala/projects/otis/ai-foundry-config-testing/.venv/lib/python3.11/site-packages (from opentelemetry-sdk~=1.24->semantic-kernel>=1.34.0->semantic-kernel[azure]>=1.34.0) (0.56b0)\n",
      "Requirement already satisfied: chardet>=5.2 in /home/pkarpala/projects/otis/ai-foundry-config-testing/.venv/lib/python3.11/site-packages (from prance<25.4.9,>=23.6.21->semantic-kernel>=1.34.0->semantic-kernel[azure]>=1.34.0) (5.2.0)\n",
      "Requirement already satisfied: ruamel.yaml>=0.18.10 in /home/pkarpala/projects/otis/ai-foundry-config-testing/.venv/lib/python3.11/site-packages (from prance<25.4.9,>=23.6.21->semantic-kernel>=1.34.0->semantic-kernel[azure]>=1.34.0) (0.18.14)\n",
      "Requirement already satisfied: PyMeta3>=0.5.1 in /home/pkarpala/projects/otis/ai-foundry-config-testing/.venv/lib/python3.11/site-packages (from pybars4~=0.9->semantic-kernel>=1.34.0->semantic-kernel[azure]>=1.34.0) (0.5.1)\n",
      "Requirement already satisfied: annotated-types>=0.6.0 in /home/pkarpala/projects/otis/ai-foundry-config-testing/.venv/lib/python3.11/site-packages (from pydantic!=2.10.0,!=2.10.1,!=2.10.2,!=2.10.3,<2.12,>=2.0->semantic-kernel>=1.34.0->semantic-kernel[azure]>=1.34.0) (0.7.0)\n",
      "Requirement already satisfied: pydantic-core==2.33.2 in /home/pkarpala/projects/otis/ai-foundry-config-testing/.venv/lib/python3.11/site-packages (from pydantic!=2.10.0,!=2.10.1,!=2.10.2,!=2.10.3,<2.12,>=2.0->semantic-kernel>=1.34.0->semantic-kernel[azure]>=1.34.0) (2.33.2)\n",
      "Requirement already satisfied: typing-inspection>=0.4.0 in /home/pkarpala/projects/otis/ai-foundry-config-testing/.venv/lib/python3.11/site-packages (from pydantic!=2.10.0,!=2.10.1,!=2.10.2,!=2.10.3,<2.12,>=2.0->semantic-kernel>=1.34.0->semantic-kernel[azure]>=1.34.0) (0.4.1)\n",
      "Requirement already satisfied: python-dotenv>=0.21.0 in /home/pkarpala/projects/otis/ai-foundry-config-testing/.venv/lib/python3.11/site-packages (from pydantic-settings~=2.0->semantic-kernel>=1.34.0->semantic-kernel[azure]>=1.34.0) (1.1.1)\n",
      "Requirement already satisfied: aioice<1.0.0,>=0.10.1 in /home/pkarpala/projects/otis/ai-foundry-config-testing/.venv/lib/python3.11/site-packages (from aiortc>=1.9.0->semantic-kernel>=1.34.0->semantic-kernel[azure]>=1.34.0) (0.10.1)\n",
      "Requirement already satisfied: av<15.0.0,>=14.0.0 in /home/pkarpala/projects/otis/ai-foundry-config-testing/.venv/lib/python3.11/site-packages (from aiortc>=1.9.0->semantic-kernel>=1.34.0->semantic-kernel[azure]>=1.34.0) (14.4.0)\n",
      "Requirement already satisfied: cffi>=1.0.0 in /home/pkarpala/projects/otis/ai-foundry-config-testing/.venv/lib/python3.11/site-packages (from aiortc>=1.9.0->semantic-kernel>=1.34.0->semantic-kernel[azure]>=1.34.0) (1.17.1)\n",
      "Requirement already satisfied: cryptography>=44.0.0 in /home/pkarpala/projects/otis/ai-foundry-config-testing/.venv/lib/python3.11/site-packages (from aiortc>=1.9.0->semantic-kernel>=1.34.0->semantic-kernel[azure]>=1.34.0) (45.0.5)\n",
      "Requirement already satisfied: google-crc32c>=1.1 in /home/pkarpala/projects/otis/ai-foundry-config-testing/.venv/lib/python3.11/site-packages (from aiortc>=1.9.0->semantic-kernel>=1.34.0->semantic-kernel[azure]>=1.34.0) (1.7.1)\n",
      "Requirement already satisfied: pyee>=13.0.0 in /home/pkarpala/projects/otis/ai-foundry-config-testing/.venv/lib/python3.11/site-packages (from aiortc>=1.9.0->semantic-kernel>=1.34.0->semantic-kernel[azure]>=1.34.0) (13.0.0)\n",
      "Requirement already satisfied: pylibsrtp>=0.10.0 in /home/pkarpala/projects/otis/ai-foundry-config-testing/.venv/lib/python3.11/site-packages (from aiortc>=1.9.0->semantic-kernel>=1.34.0->semantic-kernel[azure]>=1.34.0) (0.12.0)\n",
      "Requirement already satisfied: pyopenssl>=25.0.0 in /home/pkarpala/projects/otis/ai-foundry-config-testing/.venv/lib/python3.11/site-packages (from aiortc>=1.9.0->semantic-kernel>=1.34.0->semantic-kernel[azure]>=1.34.0) (25.1.0)\n",
      "Requirement already satisfied: dnspython>=2.0.0 in /home/pkarpala/projects/otis/ai-foundry-config-testing/.venv/lib/python3.11/site-packages (from aioice<1.0.0,>=0.10.1->aiortc>=1.9.0->semantic-kernel>=1.34.0->semantic-kernel[azure]>=1.34.0) (2.7.0)\n",
      "Requirement already satisfied: ifaddr>=0.2.0 in /home/pkarpala/projects/otis/ai-foundry-config-testing/.venv/lib/python3.11/site-packages (from aioice<1.0.0,>=0.10.1->aiortc>=1.9.0->semantic-kernel>=1.34.0->semantic-kernel[azure]>=1.34.0) (0.2.0)\n",
      "Requirement already satisfied: azure-core>=1.30.0 in /home/pkarpala/projects/otis/ai-foundry-config-testing/.venv/lib/python3.11/site-packages (from azure-ai-agents>=1.1.0b1->semantic-kernel>=1.34.0->semantic-kernel[azure]>=1.34.0) (1.35.0)\n",
      "Requirement already satisfied: azure-storage-blob>=12.15.0 in /home/pkarpala/projects/otis/ai-foundry-config-testing/.venv/lib/python3.11/site-packages (from azure-ai-projects>=1.0.0b11->semantic-kernel>=1.34.0->semantic-kernel[azure]>=1.34.0) (12.25.1)\n",
      "Requirement already satisfied: six>=1.11.0 in /home/pkarpala/projects/otis/ai-foundry-config-testing/.venv/lib/python3.11/site-packages (from azure-core>=1.30.0->azure-ai-agents>=1.1.0b1->semantic-kernel>=1.34.0->semantic-kernel[azure]>=1.34.0) (1.17.0)\n",
      "Requirement already satisfied: msal>=1.30.0 in /home/pkarpala/projects/otis/ai-foundry-config-testing/.venv/lib/python3.11/site-packages (from azure-identity>=1.13->semantic-kernel>=1.34.0->semantic-kernel[azure]>=1.34.0) (1.32.3)\n",
      "Requirement already satisfied: msal-extensions>=1.2.0 in /home/pkarpala/projects/otis/ai-foundry-config-testing/.venv/lib/python3.11/site-packages (from azure-identity>=1.13->semantic-kernel>=1.34.0->semantic-kernel[azure]>=1.34.0) (1.3.1)\n",
      "Requirement already satisfied: pycparser in /home/pkarpala/projects/otis/ai-foundry-config-testing/.venv/lib/python3.11/site-packages (from cffi>=1.0.0->aiortc>=1.9.0->semantic-kernel>=1.34.0->semantic-kernel[azure]>=1.34.0) (2.22)\n",
      "Requirement already satisfied: PyJWT<3,>=1.0.0 in /home/pkarpala/projects/otis/ai-foundry-config-testing/.venv/lib/python3.11/site-packages (from PyJWT[crypto]<3,>=1.0.0->msal>=1.30.0->azure-identity>=1.13->semantic-kernel>=1.34.0->semantic-kernel[azure]>=1.34.0) (2.10.1)\n",
      "Requirement already satisfied: anyio<5,>=3.5.0 in /home/pkarpala/projects/otis/ai-foundry-config-testing/.venv/lib/python3.11/site-packages (from openai>=1.67->semantic-kernel>=1.34.0->semantic-kernel[azure]>=1.34.0) (4.9.0)\n",
      "Requirement already satisfied: distro<2,>=1.7.0 in /home/pkarpala/projects/otis/ai-foundry-config-testing/.venv/lib/python3.11/site-packages (from openai>=1.67->semantic-kernel>=1.34.0->semantic-kernel[azure]>=1.34.0) (1.9.0)\n",
      "Requirement already satisfied: httpx<1,>=0.23.0 in /home/pkarpala/projects/otis/ai-foundry-config-testing/.venv/lib/python3.11/site-packages (from openai>=1.67->semantic-kernel>=1.34.0->semantic-kernel[azure]>=1.34.0) (0.28.1)\n",
      "Requirement already satisfied: jiter<1,>=0.4.0 in /home/pkarpala/projects/otis/ai-foundry-config-testing/.venv/lib/python3.11/site-packages (from openai>=1.67->semantic-kernel>=1.34.0->semantic-kernel[azure]>=1.34.0) (0.10.0)\n",
      "Requirement already satisfied: sniffio in /home/pkarpala/projects/otis/ai-foundry-config-testing/.venv/lib/python3.11/site-packages (from openai>=1.67->semantic-kernel>=1.34.0->semantic-kernel[azure]>=1.34.0) (1.3.1)\n",
      "Requirement already satisfied: tqdm>4 in /home/pkarpala/projects/otis/ai-foundry-config-testing/.venv/lib/python3.11/site-packages (from openai>=1.67->semantic-kernel>=1.34.0->semantic-kernel[azure]>=1.34.0) (4.67.1)\n",
      "Requirement already satisfied: httpcore==1.* in /home/pkarpala/projects/otis/ai-foundry-config-testing/.venv/lib/python3.11/site-packages (from httpx<1,>=0.23.0->openai>=1.67->semantic-kernel>=1.34.0->semantic-kernel[azure]>=1.34.0) (1.0.9)\n",
      "Requirement already satisfied: h11>=0.16 in /home/pkarpala/projects/otis/ai-foundry-config-testing/.venv/lib/python3.11/site-packages (from httpcore==1.*->httpx<1,>=0.23.0->openai>=1.67->semantic-kernel>=1.34.0->semantic-kernel[azure]>=1.34.0) (0.16.0)\n",
      "Requirement already satisfied: ruamel.yaml.clib>=0.2.7 in /home/pkarpala/projects/otis/ai-foundry-config-testing/.venv/lib/python3.11/site-packages (from ruamel.yaml>=0.18.10->prance<25.4.9,>=23.6.21->semantic-kernel>=1.34.0->semantic-kernel[azure]>=1.34.0) (0.2.12)\n",
      "Requirement already satisfied: azure-ai-inference>=1.0.0b6 in /home/pkarpala/projects/otis/ai-foundry-config-testing/.venv/lib/python3.11/site-packages (from semantic-kernel[azure]>=1.34.0) (1.0.0b9)\n",
      "Requirement already satisfied: azure-core-tracing-opentelemetry>=1.0.0b11 in /home/pkarpala/projects/otis/ai-foundry-config-testing/.venv/lib/python3.11/site-packages (from semantic-kernel[azure]>=1.34.0) (1.0.0b12)\n",
      "Requirement already satisfied: azure-search-documents>=11.6.0b4 in /home/pkarpala/projects/otis/ai-foundry-config-testing/.venv/lib/python3.11/site-packages (from semantic-kernel[azure]>=1.34.0) (11.6.0b12)\n",
      "Requirement already satisfied: azure-cosmos~=4.7 in /home/pkarpala/projects/otis/ai-foundry-config-testing/.venv/lib/python3.11/site-packages (from semantic-kernel[azure]>=1.34.0) (4.9.0)\n",
      "Requirement already satisfied: azure-common>=1.1 in /home/pkarpala/projects/otis/ai-foundry-config-testing/.venv/lib/python3.11/site-packages (from azure-search-documents>=11.6.0b4->semantic-kernel[azure]>=1.34.0) (1.1.28)\n"
     ]
    }
   ],
   "source": [
    "# Install required packages\n",
    "\n",
    "!pip install requests \"semantic-kernel[azure]>=1.34.0\""
   ]
  },
  {
   "cell_type": "markdown",
   "metadata": {},
   "source": [
    "## Step 2\n",
    "Create Project client"
   ]
  },
  {
   "cell_type": "code",
   "execution_count": 34,
   "metadata": {},
   "outputs": [
    {
     "name": "stdout",
     "output_type": "stream",
     "text": [
      "Agent ID: asst_ToihIlghRnnuk7fU9ASWEfRN, Name: Joe, Description: None, Deployment Name: gpt-35-turbo\n",
      "Agent ID: asst_cTmTnzQTfPo8yr838947fnhm, Name: Joe, Description: None, Deployment Name: gpt-35-turbo\n",
      "Agent ID: asst_G6FGdqwjsuXOewfgkmhwD1QM, Name: Agent778, Description: None, Deployment Name: gpt-35-turbo\n",
      "Agent ID: asst_SkAs2Pj7omRtGzG7SbJ8QpHv, Name: Agent287, Description: None, Deployment Name: gpt-35-turbo\n",
      "Agent ID: asst_m7B9QtfNGk99HWSchCBJmuQn, Name: Agent484, Description: None, Deployment Name: gpt-35-turbo\n"
     ]
    }
   ],
   "source": [
    "import asyncio\n",
    "from datetime import date\n",
    "import logging\n",
    "import os\n",
    "from azure.identity import DefaultAzureCredential, AzureDeveloperCliCredential\n",
    "\n",
    "from semantic_kernel.agents import (\n",
    "    AzureAIAgent,\n",
    "    AzureAIAgentThread,\n",
    "    AzureAIAgentSettings,\n",
    ")\n",
    "\n",
    "from dotenv import load_dotenv\n",
    "# Load environment variables from the .env file\n",
    "load_dotenv()\n",
    "\n",
    "endpoint = os.environ.get(\"AZURE_AI_FOUNDRY_CONNECTION_STRING\")\n",
    "deployment_name = os.environ.get(\"AZURE_OPENAI_CHAT_DEPLOYMENT_NAME\")\n",
    "api_version = os.environ.get(\"AZURE_OPENAI_API_VERSION\", None)\n",
    "tenant_id = os.environ.get(\"AZURE_TENANT_ID\", None)\n",
    "\n",
    "ai_agent_settings = AzureAIAgentSettings(\n",
    "    endpoint=endpoint,\n",
    "    model_deployment_name=deployment_name,\n",
    "    api_version=api_version,\n",
    ")\n",
    "\n",
    "creds = AzureDeveloperCliCredential(tenant_id=tenant_id) if os.environ.get(\"USE_AZURE_DEV_CLI\") == \"true\" else DefaultAzureCredential()\n",
    "client = AzureAIAgent.create_client(\n",
    "    credential=creds,\n",
    "    endpoint=ai_agent_settings.endpoint,\n",
    "    api_version=ai_agent_settings.api_version,\n",
    ")\n",
    "\n",
    "agent_definition = None\n",
    "\n",
    "# List agents\n",
    "async for agent in client.agents.list_agents():\n",
    "    print(f\"Agent ID: {agent.id}, Name: {agent.name}, Description: {agent.description}, Deployment Name: {agent.model}\")\n",
    "    if agent.name == \"Joe2\":\n",
    "        agent_definition = agent\n"
   ]
  },
  {
   "cell_type": "markdown",
   "metadata": {},
   "source": [
    "### Create Agent"
   ]
  },
  {
   "cell_type": "code",
   "execution_count": 35,
   "metadata": {},
   "outputs": [],
   "source": [
    "agent_name = \"Joe\"\n",
    "agent_instructions = (\n",
    "    \"You are a helpful assistant named Joe. \"\n",
    "    \"You are designed to assist with various tasks and answer questions. \"\n",
    "    \"Your responses should be concise and informative.\"\n",
    ")\n",
    "\n",
    "agent_definition = agent_definition if agent_definition else await client.agents.create_agent(\n",
    "    model=ai_agent_settings.model_deployment_name,\n",
    "    name=agent_name,\n",
    "    instructions=agent_instructions,\n",
    ")\n",
    "agent = AzureAIAgent(\n",
    "    client=client,\n",
    "    definition=agent_definition,\n",
    ")"
   ]
  },
  {
   "cell_type": "markdown",
   "metadata": {},
   "source": [
    "### Use the agent"
   ]
  },
  {
   "cell_type": "code",
   "execution_count": 33,
   "metadata": {},
   "outputs": [
    {
     "name": "stdout",
     "output_type": "stream",
     "text": [
      "Agent: Abraham Lincoln was assassinated on April 14, 1865, by John Wilkes Booth, who shot him at Ford's Theatre in Washington, D.C. Lincoln passed away the following day, April 15, 1865.\n"
     ]
    }
   ],
   "source": [
    "input = \"How did Abraham Lincoln die?\"\n",
    "thread = AzureAIAgentThread(client=client)\n",
    "\n",
    "async for agent_response in agent.invoke(messages=input, thread=thread):\n",
    "    print(f\"Agent: {agent_response}\")"
   ]
  }
 ],
 "metadata": {
  "kernelspec": {
   "display_name": ".venv",
   "language": "python",
   "name": "python3"
  },
  "language_info": {
   "codemirror_mode": {
    "name": "ipython",
    "version": 3
   },
   "file_extension": ".py",
   "mimetype": "text/x-python",
   "name": "python",
   "nbconvert_exporter": "python",
   "pygments_lexer": "ipython3",
   "version": "3.11.11"
  }
 },
 "nbformat": 4,
 "nbformat_minor": 4
}

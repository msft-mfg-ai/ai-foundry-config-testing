{
 "cells": [
  {
   "cell_type": "markdown",
   "metadata": {},
   "source": [
    "# Testing Agents in AI Foundry\n",
    "This notebook creates and runs an agent from AI Foundry"
   ]
  },
  {
   "cell_type": "code",
   "execution_count": 5,
   "metadata": {
    "vscode": {
     "languageId": "shellscript"
    }
   },
   "outputs": [
    {
     "name": "stdout",
     "output_type": "stream",
     "text": [
      "Requirement already satisfied: requests in /home/pkarpala/projects/otis/ai-foundry-config-testing/.venv/lib/python3.11/site-packages (2.32.4)\n",
      "Requirement already satisfied: semantic-kernel>=1.34.0 in /home/pkarpala/projects/otis/ai-foundry-config-testing/.venv/lib/python3.11/site-packages (from semantic-kernel[azure]>=1.34.0) (1.34.0)\n",
      "Requirement already satisfied: charset_normalizer<4,>=2 in /home/pkarpala/projects/otis/ai-foundry-config-testing/.venv/lib/python3.11/site-packages (from requests) (3.4.2)\n",
      "Requirement already satisfied: idna<4,>=2.5 in /home/pkarpala/projects/otis/ai-foundry-config-testing/.venv/lib/python3.11/site-packages (from requests) (3.10)\n",
      "Requirement already satisfied: urllib3<3,>=1.21.1 in /home/pkarpala/projects/otis/ai-foundry-config-testing/.venv/lib/python3.11/site-packages (from requests) (2.5.0)\n",
      "Requirement already satisfied: certifi>=2017.4.17 in /home/pkarpala/projects/otis/ai-foundry-config-testing/.venv/lib/python3.11/site-packages (from requests) (2025.7.14)\n",
      "Requirement already satisfied: azure-ai-projects>=1.0.0b11 in /home/pkarpala/projects/otis/ai-foundry-config-testing/.venv/lib/python3.11/site-packages (from semantic-kernel>=1.34.0->semantic-kernel[azure]>=1.34.0) (1.0.0b12)\n",
      "Requirement already satisfied: azure-ai-agents>=1.1.0b1 in /home/pkarpala/projects/otis/ai-foundry-config-testing/.venv/lib/python3.11/site-packages (from semantic-kernel>=1.34.0->semantic-kernel[azure]>=1.34.0) (1.1.0b4)\n",
      "Requirement already satisfied: aiohttp~=3.8 in /home/pkarpala/projects/otis/ai-foundry-config-testing/.venv/lib/python3.11/site-packages (from semantic-kernel>=1.34.0->semantic-kernel[azure]>=1.34.0) (3.12.14)\n",
      "Requirement already satisfied: cloudevents~=1.0 in /home/pkarpala/projects/otis/ai-foundry-config-testing/.venv/lib/python3.11/site-packages (from semantic-kernel>=1.34.0->semantic-kernel[azure]>=1.34.0) (1.12.0)\n",
      "Requirement already satisfied: pydantic!=2.10.0,!=2.10.1,!=2.10.2,!=2.10.3,<2.12,>=2.0 in /home/pkarpala/projects/otis/ai-foundry-config-testing/.venv/lib/python3.11/site-packages (from semantic-kernel>=1.34.0->semantic-kernel[azure]>=1.34.0) (2.11.7)\n",
      "Requirement already satisfied: pydantic-settings~=2.0 in /home/pkarpala/projects/otis/ai-foundry-config-testing/.venv/lib/python3.11/site-packages (from semantic-kernel>=1.34.0->semantic-kernel[azure]>=1.34.0) (2.10.1)\n",
      "Requirement already satisfied: defusedxml~=0.7 in /home/pkarpala/projects/otis/ai-foundry-config-testing/.venv/lib/python3.11/site-packages (from semantic-kernel>=1.34.0->semantic-kernel[azure]>=1.34.0) (0.7.1)\n",
      "Requirement already satisfied: azure-identity>=1.13 in /home/pkarpala/projects/otis/ai-foundry-config-testing/.venv/lib/python3.11/site-packages (from semantic-kernel>=1.34.0->semantic-kernel[azure]>=1.34.0) (1.23.1)\n",
      "Requirement already satisfied: numpy>=1.25.0 in /home/pkarpala/projects/otis/ai-foundry-config-testing/.venv/lib/python3.11/site-packages (from semantic-kernel>=1.34.0->semantic-kernel[azure]>=1.34.0) (2.3.1)\n",
      "Requirement already satisfied: openai>=1.67 in /home/pkarpala/projects/otis/ai-foundry-config-testing/.venv/lib/python3.11/site-packages (from semantic-kernel>=1.34.0->semantic-kernel[azure]>=1.34.0) (1.96.1)\n",
      "Requirement already satisfied: openapi_core<0.20,>=0.18 in /home/pkarpala/projects/otis/ai-foundry-config-testing/.venv/lib/python3.11/site-packages (from semantic-kernel>=1.34.0->semantic-kernel[azure]>=1.34.0) (0.19.5)\n",
      "Requirement already satisfied: websockets<16,>=13 in /home/pkarpala/projects/otis/ai-foundry-config-testing/.venv/lib/python3.11/site-packages (from semantic-kernel>=1.34.0->semantic-kernel[azure]>=1.34.0) (15.0.1)\n",
      "Requirement already satisfied: aiortc>=1.9.0 in /home/pkarpala/projects/otis/ai-foundry-config-testing/.venv/lib/python3.11/site-packages (from semantic-kernel>=1.34.0->semantic-kernel[azure]>=1.34.0) (1.13.0)\n",
      "Requirement already satisfied: opentelemetry-api~=1.24 in /home/pkarpala/projects/otis/ai-foundry-config-testing/.venv/lib/python3.11/site-packages (from semantic-kernel>=1.34.0->semantic-kernel[azure]>=1.34.0) (1.35.0)\n",
      "Requirement already satisfied: opentelemetry-sdk~=1.24 in /home/pkarpala/projects/otis/ai-foundry-config-testing/.venv/lib/python3.11/site-packages (from semantic-kernel>=1.34.0->semantic-kernel[azure]>=1.34.0) (1.35.0)\n",
      "Requirement already satisfied: prance<25.4.9,>=23.6.21 in /home/pkarpala/projects/otis/ai-foundry-config-testing/.venv/lib/python3.11/site-packages (from semantic-kernel>=1.34.0->semantic-kernel[azure]>=1.34.0) (25.4.8.0)\n",
      "Requirement already satisfied: pybars4~=0.9 in /home/pkarpala/projects/otis/ai-foundry-config-testing/.venv/lib/python3.11/site-packages (from semantic-kernel>=1.34.0->semantic-kernel[azure]>=1.34.0) (0.9.13)\n",
      "Requirement already satisfied: jinja2~=3.1 in /home/pkarpala/projects/otis/ai-foundry-config-testing/.venv/lib/python3.11/site-packages (from semantic-kernel>=1.34.0->semantic-kernel[azure]>=1.34.0) (3.1.6)\n",
      "Requirement already satisfied: nest-asyncio~=1.6 in /home/pkarpala/projects/otis/ai-foundry-config-testing/.venv/lib/python3.11/site-packages (from semantic-kernel>=1.34.0->semantic-kernel[azure]>=1.34.0) (1.6.0)\n",
      "Requirement already satisfied: scipy>=1.15.1 in /home/pkarpala/projects/otis/ai-foundry-config-testing/.venv/lib/python3.11/site-packages (from semantic-kernel>=1.34.0->semantic-kernel[azure]>=1.34.0) (1.16.0)\n",
      "Requirement already satisfied: protobuf in /home/pkarpala/projects/otis/ai-foundry-config-testing/.venv/lib/python3.11/site-packages (from semantic-kernel>=1.34.0->semantic-kernel[azure]>=1.34.0) (6.31.1)\n",
      "Requirement already satisfied: typing-extensions>=4.13 in /home/pkarpala/projects/otis/ai-foundry-config-testing/.venv/lib/python3.11/site-packages (from semantic-kernel>=1.34.0->semantic-kernel[azure]>=1.34.0) (4.14.1)\n",
      "Requirement already satisfied: aiohappyeyeballs>=2.5.0 in /home/pkarpala/projects/otis/ai-foundry-config-testing/.venv/lib/python3.11/site-packages (from aiohttp~=3.8->semantic-kernel>=1.34.0->semantic-kernel[azure]>=1.34.0) (2.6.1)\n",
      "Requirement already satisfied: aiosignal>=1.4.0 in /home/pkarpala/projects/otis/ai-foundry-config-testing/.venv/lib/python3.11/site-packages (from aiohttp~=3.8->semantic-kernel>=1.34.0->semantic-kernel[azure]>=1.34.0) (1.4.0)\n",
      "Requirement already satisfied: attrs>=17.3.0 in /home/pkarpala/projects/otis/ai-foundry-config-testing/.venv/lib/python3.11/site-packages (from aiohttp~=3.8->semantic-kernel>=1.34.0->semantic-kernel[azure]>=1.34.0) (25.3.0)\n",
      "Requirement already satisfied: frozenlist>=1.1.1 in /home/pkarpala/projects/otis/ai-foundry-config-testing/.venv/lib/python3.11/site-packages (from aiohttp~=3.8->semantic-kernel>=1.34.0->semantic-kernel[azure]>=1.34.0) (1.7.0)\n",
      "Requirement already satisfied: multidict<7.0,>=4.5 in /home/pkarpala/projects/otis/ai-foundry-config-testing/.venv/lib/python3.11/site-packages (from aiohttp~=3.8->semantic-kernel>=1.34.0->semantic-kernel[azure]>=1.34.0) (6.6.3)\n",
      "Requirement already satisfied: propcache>=0.2.0 in /home/pkarpala/projects/otis/ai-foundry-config-testing/.venv/lib/python3.11/site-packages (from aiohttp~=3.8->semantic-kernel>=1.34.0->semantic-kernel[azure]>=1.34.0) (0.3.2)\n",
      "Requirement already satisfied: yarl<2.0,>=1.17.0 in /home/pkarpala/projects/otis/ai-foundry-config-testing/.venv/lib/python3.11/site-packages (from aiohttp~=3.8->semantic-kernel>=1.34.0->semantic-kernel[azure]>=1.34.0) (1.20.1)\n",
      "Requirement already satisfied: deprecation<3.0,>=2.0 in /home/pkarpala/projects/otis/ai-foundry-config-testing/.venv/lib/python3.11/site-packages (from cloudevents~=1.0->semantic-kernel>=1.34.0->semantic-kernel[azure]>=1.34.0) (2.1.0)\n",
      "Requirement already satisfied: packaging in /home/pkarpala/projects/otis/ai-foundry-config-testing/.venv/lib/python3.11/site-packages (from deprecation<3.0,>=2.0->cloudevents~=1.0->semantic-kernel>=1.34.0->semantic-kernel[azure]>=1.34.0) (25.0)\n",
      "Requirement already satisfied: MarkupSafe>=2.0 in /home/pkarpala/projects/otis/ai-foundry-config-testing/.venv/lib/python3.11/site-packages (from jinja2~=3.1->semantic-kernel>=1.34.0->semantic-kernel[azure]>=1.34.0) (3.0.2)\n",
      "Requirement already satisfied: isodate in /home/pkarpala/projects/otis/ai-foundry-config-testing/.venv/lib/python3.11/site-packages (from openapi_core<0.20,>=0.18->semantic-kernel>=1.34.0->semantic-kernel[azure]>=1.34.0) (0.7.2)\n",
      "Requirement already satisfied: jsonschema<5.0.0,>=4.18.0 in /home/pkarpala/projects/otis/ai-foundry-config-testing/.venv/lib/python3.11/site-packages (from openapi_core<0.20,>=0.18->semantic-kernel>=1.34.0->semantic-kernel[azure]>=1.34.0) (4.24.0)\n",
      "Requirement already satisfied: jsonschema-path<0.4.0,>=0.3.1 in /home/pkarpala/projects/otis/ai-foundry-config-testing/.venv/lib/python3.11/site-packages (from openapi_core<0.20,>=0.18->semantic-kernel>=1.34.0->semantic-kernel[azure]>=1.34.0) (0.3.4)\n",
      "Requirement already satisfied: more-itertools in /home/pkarpala/projects/otis/ai-foundry-config-testing/.venv/lib/python3.11/site-packages (from openapi_core<0.20,>=0.18->semantic-kernel>=1.34.0->semantic-kernel[azure]>=1.34.0) (10.7.0)\n",
      "Requirement already satisfied: openapi-schema-validator<0.7.0,>=0.6.0 in /home/pkarpala/projects/otis/ai-foundry-config-testing/.venv/lib/python3.11/site-packages (from openapi_core<0.20,>=0.18->semantic-kernel>=1.34.0->semantic-kernel[azure]>=1.34.0) (0.6.3)\n",
      "Requirement already satisfied: openapi-spec-validator<0.8.0,>=0.7.1 in /home/pkarpala/projects/otis/ai-foundry-config-testing/.venv/lib/python3.11/site-packages (from openapi_core<0.20,>=0.18->semantic-kernel>=1.34.0->semantic-kernel[azure]>=1.34.0) (0.7.2)\n",
      "Requirement already satisfied: parse in /home/pkarpala/projects/otis/ai-foundry-config-testing/.venv/lib/python3.11/site-packages (from openapi_core<0.20,>=0.18->semantic-kernel>=1.34.0->semantic-kernel[azure]>=1.34.0) (1.20.2)\n",
      "Requirement already satisfied: werkzeug<3.1.2 in /home/pkarpala/projects/otis/ai-foundry-config-testing/.venv/lib/python3.11/site-packages (from openapi_core<0.20,>=0.18->semantic-kernel>=1.34.0->semantic-kernel[azure]>=1.34.0) (3.1.1)\n",
      "Requirement already satisfied: jsonschema-specifications>=2023.03.6 in /home/pkarpala/projects/otis/ai-foundry-config-testing/.venv/lib/python3.11/site-packages (from jsonschema<5.0.0,>=4.18.0->openapi_core<0.20,>=0.18->semantic-kernel>=1.34.0->semantic-kernel[azure]>=1.34.0) (2025.4.1)\n",
      "Requirement already satisfied: referencing>=0.28.4 in /home/pkarpala/projects/otis/ai-foundry-config-testing/.venv/lib/python3.11/site-packages (from jsonschema<5.0.0,>=4.18.0->openapi_core<0.20,>=0.18->semantic-kernel>=1.34.0->semantic-kernel[azure]>=1.34.0) (0.36.2)\n",
      "Requirement already satisfied: rpds-py>=0.7.1 in /home/pkarpala/projects/otis/ai-foundry-config-testing/.venv/lib/python3.11/site-packages (from jsonschema<5.0.0,>=4.18.0->openapi_core<0.20,>=0.18->semantic-kernel>=1.34.0->semantic-kernel[azure]>=1.34.0) (0.26.0)\n",
      "Requirement already satisfied: PyYAML>=5.1 in /home/pkarpala/projects/otis/ai-foundry-config-testing/.venv/lib/python3.11/site-packages (from jsonschema-path<0.4.0,>=0.3.1->openapi_core<0.20,>=0.18->semantic-kernel>=1.34.0->semantic-kernel[azure]>=1.34.0) (6.0.2)\n",
      "Requirement already satisfied: pathable<0.5.0,>=0.4.1 in /home/pkarpala/projects/otis/ai-foundry-config-testing/.venv/lib/python3.11/site-packages (from jsonschema-path<0.4.0,>=0.3.1->openapi_core<0.20,>=0.18->semantic-kernel>=1.34.0->semantic-kernel[azure]>=1.34.0) (0.4.4)\n",
      "Requirement already satisfied: rfc3339-validator in /home/pkarpala/projects/otis/ai-foundry-config-testing/.venv/lib/python3.11/site-packages (from openapi-schema-validator<0.7.0,>=0.6.0->openapi_core<0.20,>=0.18->semantic-kernel>=1.34.0->semantic-kernel[azure]>=1.34.0) (0.1.4)\n",
      "Requirement already satisfied: lazy-object-proxy<2.0.0,>=1.7.1 in /home/pkarpala/projects/otis/ai-foundry-config-testing/.venv/lib/python3.11/site-packages (from openapi-spec-validator<0.8.0,>=0.7.1->openapi_core<0.20,>=0.18->semantic-kernel>=1.34.0->semantic-kernel[azure]>=1.34.0) (1.11.0)\n",
      "Requirement already satisfied: importlib-metadata<8.8.0,>=6.0 in /home/pkarpala/projects/otis/ai-foundry-config-testing/.venv/lib/python3.11/site-packages (from opentelemetry-api~=1.24->semantic-kernel>=1.34.0->semantic-kernel[azure]>=1.34.0) (8.7.0)\n",
      "Requirement already satisfied: zipp>=3.20 in /home/pkarpala/projects/otis/ai-foundry-config-testing/.venv/lib/python3.11/site-packages (from importlib-metadata<8.8.0,>=6.0->opentelemetry-api~=1.24->semantic-kernel>=1.34.0->semantic-kernel[azure]>=1.34.0) (3.23.0)\n",
      "Requirement already satisfied: opentelemetry-semantic-conventions==0.56b0 in /home/pkarpala/projects/otis/ai-foundry-config-testing/.venv/lib/python3.11/site-packages (from opentelemetry-sdk~=1.24->semantic-kernel>=1.34.0->semantic-kernel[azure]>=1.34.0) (0.56b0)\n",
      "Requirement already satisfied: chardet>=5.2 in /home/pkarpala/projects/otis/ai-foundry-config-testing/.venv/lib/python3.11/site-packages (from prance<25.4.9,>=23.6.21->semantic-kernel>=1.34.0->semantic-kernel[azure]>=1.34.0) (5.2.0)\n",
      "Requirement already satisfied: ruamel.yaml>=0.18.10 in /home/pkarpala/projects/otis/ai-foundry-config-testing/.venv/lib/python3.11/site-packages (from prance<25.4.9,>=23.6.21->semantic-kernel>=1.34.0->semantic-kernel[azure]>=1.34.0) (0.18.14)\n",
      "Requirement already satisfied: PyMeta3>=0.5.1 in /home/pkarpala/projects/otis/ai-foundry-config-testing/.venv/lib/python3.11/site-packages (from pybars4~=0.9->semantic-kernel>=1.34.0->semantic-kernel[azure]>=1.34.0) (0.5.1)\n",
      "Requirement already satisfied: annotated-types>=0.6.0 in /home/pkarpala/projects/otis/ai-foundry-config-testing/.venv/lib/python3.11/site-packages (from pydantic!=2.10.0,!=2.10.1,!=2.10.2,!=2.10.3,<2.12,>=2.0->semantic-kernel>=1.34.0->semantic-kernel[azure]>=1.34.0) (0.7.0)\n",
      "Requirement already satisfied: pydantic-core==2.33.2 in /home/pkarpala/projects/otis/ai-foundry-config-testing/.venv/lib/python3.11/site-packages (from pydantic!=2.10.0,!=2.10.1,!=2.10.2,!=2.10.3,<2.12,>=2.0->semantic-kernel>=1.34.0->semantic-kernel[azure]>=1.34.0) (2.33.2)\n",
      "Requirement already satisfied: typing-inspection>=0.4.0 in /home/pkarpala/projects/otis/ai-foundry-config-testing/.venv/lib/python3.11/site-packages (from pydantic!=2.10.0,!=2.10.1,!=2.10.2,!=2.10.3,<2.12,>=2.0->semantic-kernel>=1.34.0->semantic-kernel[azure]>=1.34.0) (0.4.1)\n",
      "Requirement already satisfied: python-dotenv>=0.21.0 in /home/pkarpala/projects/otis/ai-foundry-config-testing/.venv/lib/python3.11/site-packages (from pydantic-settings~=2.0->semantic-kernel>=1.34.0->semantic-kernel[azure]>=1.34.0) (1.1.1)\n",
      "Requirement already satisfied: aioice<1.0.0,>=0.10.1 in /home/pkarpala/projects/otis/ai-foundry-config-testing/.venv/lib/python3.11/site-packages (from aiortc>=1.9.0->semantic-kernel>=1.34.0->semantic-kernel[azure]>=1.34.0) (0.10.1)\n",
      "Requirement already satisfied: av<15.0.0,>=14.0.0 in /home/pkarpala/projects/otis/ai-foundry-config-testing/.venv/lib/python3.11/site-packages (from aiortc>=1.9.0->semantic-kernel>=1.34.0->semantic-kernel[azure]>=1.34.0) (14.4.0)\n",
      "Requirement already satisfied: cffi>=1.0.0 in /home/pkarpala/projects/otis/ai-foundry-config-testing/.venv/lib/python3.11/site-packages (from aiortc>=1.9.0->semantic-kernel>=1.34.0->semantic-kernel[azure]>=1.34.0) (1.17.1)\n",
      "Requirement already satisfied: cryptography>=44.0.0 in /home/pkarpala/projects/otis/ai-foundry-config-testing/.venv/lib/python3.11/site-packages (from aiortc>=1.9.0->semantic-kernel>=1.34.0->semantic-kernel[azure]>=1.34.0) (45.0.5)\n",
      "Requirement already satisfied: google-crc32c>=1.1 in /home/pkarpala/projects/otis/ai-foundry-config-testing/.venv/lib/python3.11/site-packages (from aiortc>=1.9.0->semantic-kernel>=1.34.0->semantic-kernel[azure]>=1.34.0) (1.7.1)\n",
      "Requirement already satisfied: pyee>=13.0.0 in /home/pkarpala/projects/otis/ai-foundry-config-testing/.venv/lib/python3.11/site-packages (from aiortc>=1.9.0->semantic-kernel>=1.34.0->semantic-kernel[azure]>=1.34.0) (13.0.0)\n",
      "Requirement already satisfied: pylibsrtp>=0.10.0 in /home/pkarpala/projects/otis/ai-foundry-config-testing/.venv/lib/python3.11/site-packages (from aiortc>=1.9.0->semantic-kernel>=1.34.0->semantic-kernel[azure]>=1.34.0) (0.12.0)\n",
      "Requirement already satisfied: pyopenssl>=25.0.0 in /home/pkarpala/projects/otis/ai-foundry-config-testing/.venv/lib/python3.11/site-packages (from aiortc>=1.9.0->semantic-kernel>=1.34.0->semantic-kernel[azure]>=1.34.0) (25.1.0)\n",
      "Requirement already satisfied: dnspython>=2.0.0 in /home/pkarpala/projects/otis/ai-foundry-config-testing/.venv/lib/python3.11/site-packages (from aioice<1.0.0,>=0.10.1->aiortc>=1.9.0->semantic-kernel>=1.34.0->semantic-kernel[azure]>=1.34.0) (2.7.0)\n",
      "Requirement already satisfied: ifaddr>=0.2.0 in /home/pkarpala/projects/otis/ai-foundry-config-testing/.venv/lib/python3.11/site-packages (from aioice<1.0.0,>=0.10.1->aiortc>=1.9.0->semantic-kernel>=1.34.0->semantic-kernel[azure]>=1.34.0) (0.2.0)\n",
      "Requirement already satisfied: azure-core>=1.30.0 in /home/pkarpala/projects/otis/ai-foundry-config-testing/.venv/lib/python3.11/site-packages (from azure-ai-agents>=1.1.0b1->semantic-kernel>=1.34.0->semantic-kernel[azure]>=1.34.0) (1.35.0)\n",
      "Requirement already satisfied: azure-storage-blob>=12.15.0 in /home/pkarpala/projects/otis/ai-foundry-config-testing/.venv/lib/python3.11/site-packages (from azure-ai-projects>=1.0.0b11->semantic-kernel>=1.34.0->semantic-kernel[azure]>=1.34.0) (12.25.1)\n",
      "Requirement already satisfied: six>=1.11.0 in /home/pkarpala/projects/otis/ai-foundry-config-testing/.venv/lib/python3.11/site-packages (from azure-core>=1.30.0->azure-ai-agents>=1.1.0b1->semantic-kernel>=1.34.0->semantic-kernel[azure]>=1.34.0) (1.17.0)\n",
      "Requirement already satisfied: msal>=1.30.0 in /home/pkarpala/projects/otis/ai-foundry-config-testing/.venv/lib/python3.11/site-packages (from azure-identity>=1.13->semantic-kernel>=1.34.0->semantic-kernel[azure]>=1.34.0) (1.32.3)\n",
      "Requirement already satisfied: msal-extensions>=1.2.0 in /home/pkarpala/projects/otis/ai-foundry-config-testing/.venv/lib/python3.11/site-packages (from azure-identity>=1.13->semantic-kernel>=1.34.0->semantic-kernel[azure]>=1.34.0) (1.3.1)\n",
      "Requirement already satisfied: pycparser in /home/pkarpala/projects/otis/ai-foundry-config-testing/.venv/lib/python3.11/site-packages (from cffi>=1.0.0->aiortc>=1.9.0->semantic-kernel>=1.34.0->semantic-kernel[azure]>=1.34.0) (2.22)\n",
      "Requirement already satisfied: PyJWT<3,>=1.0.0 in /home/pkarpala/projects/otis/ai-foundry-config-testing/.venv/lib/python3.11/site-packages (from PyJWT[crypto]<3,>=1.0.0->msal>=1.30.0->azure-identity>=1.13->semantic-kernel>=1.34.0->semantic-kernel[azure]>=1.34.0) (2.10.1)\n",
      "Requirement already satisfied: anyio<5,>=3.5.0 in /home/pkarpala/projects/otis/ai-foundry-config-testing/.venv/lib/python3.11/site-packages (from openai>=1.67->semantic-kernel>=1.34.0->semantic-kernel[azure]>=1.34.0) (4.9.0)\n",
      "Requirement already satisfied: distro<2,>=1.7.0 in /home/pkarpala/projects/otis/ai-foundry-config-testing/.venv/lib/python3.11/site-packages (from openai>=1.67->semantic-kernel>=1.34.0->semantic-kernel[azure]>=1.34.0) (1.9.0)\n",
      "Requirement already satisfied: httpx<1,>=0.23.0 in /home/pkarpala/projects/otis/ai-foundry-config-testing/.venv/lib/python3.11/site-packages (from openai>=1.67->semantic-kernel>=1.34.0->semantic-kernel[azure]>=1.34.0) (0.28.1)\n",
      "Requirement already satisfied: jiter<1,>=0.4.0 in /home/pkarpala/projects/otis/ai-foundry-config-testing/.venv/lib/python3.11/site-packages (from openai>=1.67->semantic-kernel>=1.34.0->semantic-kernel[azure]>=1.34.0) (0.10.0)\n",
      "Requirement already satisfied: sniffio in /home/pkarpala/projects/otis/ai-foundry-config-testing/.venv/lib/python3.11/site-packages (from openai>=1.67->semantic-kernel>=1.34.0->semantic-kernel[azure]>=1.34.0) (1.3.1)\n",
      "Requirement already satisfied: tqdm>4 in /home/pkarpala/projects/otis/ai-foundry-config-testing/.venv/lib/python3.11/site-packages (from openai>=1.67->semantic-kernel>=1.34.0->semantic-kernel[azure]>=1.34.0) (4.67.1)\n",
      "Requirement already satisfied: httpcore==1.* in /home/pkarpala/projects/otis/ai-foundry-config-testing/.venv/lib/python3.11/site-packages (from httpx<1,>=0.23.0->openai>=1.67->semantic-kernel>=1.34.0->semantic-kernel[azure]>=1.34.0) (1.0.9)\n",
      "Requirement already satisfied: h11>=0.16 in /home/pkarpala/projects/otis/ai-foundry-config-testing/.venv/lib/python3.11/site-packages (from httpcore==1.*->httpx<1,>=0.23.0->openai>=1.67->semantic-kernel>=1.34.0->semantic-kernel[azure]>=1.34.0) (0.16.0)\n",
      "Requirement already satisfied: ruamel.yaml.clib>=0.2.7 in /home/pkarpala/projects/otis/ai-foundry-config-testing/.venv/lib/python3.11/site-packages (from ruamel.yaml>=0.18.10->prance<25.4.9,>=23.6.21->semantic-kernel>=1.34.0->semantic-kernel[azure]>=1.34.0) (0.2.12)\n",
      "Requirement already satisfied: azure-ai-inference>=1.0.0b6 in /home/pkarpala/projects/otis/ai-foundry-config-testing/.venv/lib/python3.11/site-packages (from semantic-kernel[azure]>=1.34.0) (1.0.0b9)\n",
      "Requirement already satisfied: azure-core-tracing-opentelemetry>=1.0.0b11 in /home/pkarpala/projects/otis/ai-foundry-config-testing/.venv/lib/python3.11/site-packages (from semantic-kernel[azure]>=1.34.0) (1.0.0b12)\n",
      "Requirement already satisfied: azure-search-documents>=11.6.0b4 in /home/pkarpala/projects/otis/ai-foundry-config-testing/.venv/lib/python3.11/site-packages (from semantic-kernel[azure]>=1.34.0) (11.6.0b12)\n",
      "Requirement already satisfied: azure-cosmos~=4.7 in /home/pkarpala/projects/otis/ai-foundry-config-testing/.venv/lib/python3.11/site-packages (from semantic-kernel[azure]>=1.34.0) (4.9.0)\n",
      "Requirement already satisfied: azure-common>=1.1 in /home/pkarpala/projects/otis/ai-foundry-config-testing/.venv/lib/python3.11/site-packages (from azure-search-documents>=11.6.0b4->semantic-kernel[azure]>=1.34.0) (1.1.28)\n"
     ]
    }
   ],
   "source": [
    "# Install required packages\n",
    "\n",
    "!pip install requests \"semantic-kernel[azure]>=1.34.0\""
   ]
  },
  {
   "cell_type": "markdown",
   "metadata": {},
   "source": [
    "## Step 2\n",
    "Create Project client"
   ]
  },
  {
   "cell_type": "code",
   "execution_count": 12,
   "metadata": {},
   "outputs": [
    {
     "name": "stdout",
     "output_type": "stream",
     "text": [
      "env_file_path=None env_file_encoding='utf-8' model_deployment_name='gpt-4.1' endpoint='https://ai-foundry-no-models-b7hwurvm66omu.services.ai.azure.com/api/projects/ai-project--my-app-1' agent_id=None bing_connection_id=None azure_ai_search_connection_id=None azure_ai_search_index_name=None api_version=None\n",
      "\n",
      " --- Agents ---\n",
      "Agent ID: asst_LbOJceIvFhCy3J4rnmse5FcV, Name: Joe, Description: None, Deployment Name: gpt-35-turbo\n",
      "Agent ID: asst_crrmBGZW1bUJJCVnKyKmyHgm, Name: Joe, Description: None, Deployment Name: gpt-35-turbo\n",
      "Agent ID: asst_2NTwCuZAZujo976pDk68gXEk, Name: Agent138, Description: None, Deployment Name: gpt-35-turbo\n",
      "\n",
      " --- Connections ---\n",
      "Connection ID: /subscriptions/ece240d5-5c85-4dba-8829-29b9949adad1/resourceGroups/my-app-1-rg/providers/Microsoft.CognitiveServices/accounts/ai-foundry-no-models-b7hwurvm66omu/projects/ai-project--my-app-1/connections/applicationInsights, Name: applicationInsights, Type: ConnectionType.APPLICATION_INSIGHTS Default: True\n",
      "Connection ID: /subscriptions/ece240d5-5c85-4dba-8829-29b9949adad1/resourceGroups/my-app-1-rg/providers/Microsoft.CognitiveServices/accounts/ai-foundry-no-models-b7hwurvm66omu/projects/ai-project--my-app-1/connections/project-cosmosdb-hg42uwhsr2fla, Name: project-cosmosdb-hg42uwhsr2fla, Type: CosmosDb Default: True\n",
      "Connection ID: /subscriptions/ece240d5-5c85-4dba-8829-29b9949adad1/resourceGroups/my-app-1-rg/providers/Microsoft.CognitiveServices/accounts/ai-foundry-no-models-b7hwurvm66omu/projects/ai-project--my-app-1/connections/project-search-hg42uwhsr2fla, Name: project-search-hg42uwhsr2fla, Type: ConnectionType.AZURE_AI_SEARCH Default: True\n",
      "Connection ID: /subscriptions/ece240d5-5c85-4dba-8829-29b9949adad1/resourceGroups/my-app-1-rg/providers/Microsoft.CognitiveServices/accounts/ai-foundry-no-models-b7hwurvm66omu/projects/ai-project--my-app-1/connections/projstoragehg42uwhsr2fla, Name: projstoragehg42uwhsr2fla, Type: ConnectionType.AZURE_STORAGE_ACCOUNT Default: True\n",
      "Connection ID: /subscriptions/ece240d5-5c85-4dba-8829-29b9949adad1/resourceGroups/my-app-1-rg/providers/Microsoft.CognitiveServices/accounts/ai-foundry-no-models-b7hwurvm66omu/projects/ai-project--my-app-1/connections/emissionscopilotcogdev2bntpnqkfowt4, Name: emissionscopilotcogdev2bntpnqkfowt4, Type: ConnectionType.AZURE_OPEN_AI Default: True\n"
     ]
    }
   ],
   "source": [
    "import asyncio\n",
    "from datetime import date\n",
    "import logging\n",
    "import os\n",
    "from azure.identity import DefaultAzureCredential, AzureDeveloperCliCredential\n",
    "\n",
    "from semantic_kernel.agents import (\n",
    "    AzureAIAgent,\n",
    "    AzureAIAgentThread,\n",
    "    AzureAIAgentSettings,\n",
    ")\n",
    "\n",
    "from dotenv import load_dotenv\n",
    "# Load environment variables from the .env file\n",
    "load_dotenv(override=True)\n",
    "\n",
    "endpoint = os.environ.get(\"AZURE_AI_FOUNDRY_CONNECTION_STRING\")\n",
    "deployment_name = os.environ.get(\"AZURE_OPENAI_CHAT_DEPLOYMENT_NAME\")\n",
    "api_version = os.environ.get(\"AZURE_OPENAI_API_VERSION\", None)\n",
    "tenant_id = os.environ.get(\"AZURE_TENANT_ID\", None)\n",
    "\n",
    "ai_agent_settings = AzureAIAgentSettings(\n",
    "    endpoint=endpoint,\n",
    "    model_deployment_name=deployment_name,\n",
    "    api_version=api_version,\n",
    ")\n",
    "print(ai_agent_settings)\n",
    "\n",
    "creds = AzureDeveloperCliCredential(tenant_id=tenant_id) if os.environ.get(\"USE_AZURE_DEV_CLI\") == \"true\" else DefaultAzureCredential()\n",
    "client = AzureAIAgent.create_client(\n",
    "    credential=creds,\n",
    "    endpoint=ai_agent_settings.endpoint,\n",
    "    api_version=ai_agent_settings.api_version,\n",
    ")\n",
    "\n",
    "agent_definition = None\n",
    "agent_name = \"Joe\"\n",
    "\n",
    "# List agents\n",
    "print(\"\\n --- Agents ---\")\n",
    "async for agent in client.agents.list_agents():\n",
    "    print(f\"Agent ID: {agent.id}, Name: {agent.name}, Description: {agent.description}, Deployment Name: {agent.model}\")\n",
    "    if agent.name == agent_name and agent_definition is None:\n",
    "        agent_definition = agent\n",
    "\n",
    "print(\"\\n --- Connections ---\")\n",
    "# List connections\n",
    "async for connection in client.connections.list():\n",
    "    print(f\"Connection ID: {connection.id}, Name: {connection.name}, Type: {connection.type} Default: {connection.is_default}\")"
   ]
  },
  {
   "cell_type": "markdown",
   "metadata": {},
   "source": [
    "### Create Agent"
   ]
  },
  {
   "cell_type": "code",
   "execution_count": null,
   "metadata": {},
   "outputs": [
    {
     "name": "stdout",
     "output_type": "stream",
     "text": [
      "Found existing agent with ID: asst_LbOJceIvFhCy3J4rnmse5FcV and name: Joe\n",
      "Created agent with id asst_LbOJceIvFhCy3J4rnmse5FcV name: Joe with model gpt-4.1\n"
     ]
    }
   ],
   "source": [
    "\n",
    "agent_instructions = (\n",
    "    \"You are a helpful assistant named Joe. \"\n",
    "    \"You are designed to assist with various tasks and answer questions. \"\n",
    "    \"Your responses should be concise and informative.\"\n",
    ")\n",
    "\n",
    "if agent_definition:\n",
    "    print(f\"Found existing agent with ID: {agent_definition.id} and name: {agent_definition.name}\")\n",
    "    agent_definition = await client.agents.update_agent(\n",
    "        agent_id=agent_definition.id,\n",
    "        instructions=agent_instructions,\n",
    "        model=ai_agent_settings.model_deployment_name,\n",
    "    )\n",
    "else:\n",
    "    agent_definition = await client.agents.create_agent(\n",
    "        model=ai_agent_settings.model_deployment_name,\n",
    "        name=agent_name,\n",
    "        instructions=agent_instructions,\n",
    "    )\n",
    "    print(f\"Created agent with id {agent_definition.id} name: {agent_name} with model {ai_agent_settings.model_deployment_name}\")\n",
    "\n",
    "agent = AzureAIAgent(\n",
    "    client=client,\n",
    "    definition=agent_definition,\n",
    ")"
   ]
  },
  {
   "cell_type": "markdown",
   "metadata": {},
   "source": [
    "### Use the agent"
   ]
  },
  {
   "cell_type": "code",
   "execution_count": 14,
   "metadata": {},
   "outputs": [
    {
     "name": "stderr",
     "output_type": "stream",
     "text": [
      "Unclosed client session\n",
      "client_session: <aiohttp.client.ClientSession object at 0x7fb884482590>\n",
      "Unclosed client session\n",
      "client_session: <aiohttp.client.ClientSession object at 0x7fb87f4c4e50>\n"
     ]
    },
    {
     "ename": "AgentInvokeException",
     "evalue": "Run failed with status: `RunStatus.FAILED` for agent `Joe` and thread `thread_LRaVUhE0UrFSfhjFtxWlhkAt` with error: Failed to resolve model info for: gpt-4.1",
     "output_type": "error",
     "traceback": [
      "\u001b[31m---------------------------------------------------------------------------\u001b[39m",
      "\u001b[31mAgentInvokeException\u001b[39m                      Traceback (most recent call last)",
      "\u001b[36mCell\u001b[39m\u001b[36m \u001b[39m\u001b[32mIn[14]\u001b[39m\u001b[32m, line 4\u001b[39m\n\u001b[32m      1\u001b[39m \u001b[38;5;28minput\u001b[39m = \u001b[33m\"\u001b[39m\u001b[33mTell me a joke about Cloud Computing - AWS, GCP and Azure go into a bar.\u001b[39m\u001b[33m\"\u001b[39m\n\u001b[32m      2\u001b[39m thread = AzureAIAgentThread(client=client)\n\u001b[32m----> \u001b[39m\u001b[32m4\u001b[39m \u001b[38;5;28;01masync\u001b[39;00m \u001b[38;5;28;01mfor\u001b[39;00m agent_response \u001b[38;5;129;01min\u001b[39;00m agent.invoke(messages=\u001b[38;5;28minput\u001b[39m, thread=thread):\n\u001b[32m      5\u001b[39m     \u001b[38;5;28mprint\u001b[39m(\u001b[33mf\u001b[39m\u001b[33m\"\u001b[39m\u001b[33mAgent: \u001b[39m\u001b[38;5;132;01m{\u001b[39;00magent_response\u001b[38;5;132;01m}\u001b[39;00m\u001b[33m\"\u001b[39m)\n",
      "\u001b[36mFile \u001b[39m\u001b[32m~/projects/otis/ai-foundry-config-testing/.venv/lib/python3.11/site-packages/semantic_kernel/utils/telemetry/agent_diagnostics/decorators.py:39\u001b[39m, in \u001b[36mtrace_agent_invocation.<locals>.wrapper_decorator\u001b[39m\u001b[34m(*args, **kwargs)\u001b[39m\n\u001b[32m     36\u001b[39m \u001b[38;5;28;01mif\u001b[39;00m agent.description:\n\u001b[32m     37\u001b[39m     span.set_attribute(gen_ai_attributes.AGENT_DESCRIPTION, agent.description)\n\u001b[32m---> \u001b[39m\u001b[32m39\u001b[39m \u001b[38;5;28;01masync\u001b[39;00m \u001b[38;5;28;01mfor\u001b[39;00m response \u001b[38;5;129;01min\u001b[39;00m invoke_func(*args, **kwargs):\n\u001b[32m     40\u001b[39m     \u001b[38;5;28;01myield\u001b[39;00m response\n",
      "\u001b[36mFile \u001b[39m\u001b[32m~/projects/otis/ai-foundry-config-testing/.venv/lib/python3.11/site-packages/semantic_kernel/agents/azure_ai/azure_ai_agent.py:813\u001b[39m, in \u001b[36mAzureAIAgent.invoke\u001b[39m\u001b[34m(self, messages, thread, on_intermediate_message, arguments, kernel, model, instructions_override, additional_instructions, additional_messages, tools, temperature, top_p, max_prompt_tokens, max_completion_tokens, truncation_strategy, response_format, parallel_tool_calls, metadata, polling_options, **kwargs)\u001b[39m\n\u001b[32m    795\u001b[39m run_level_params = {\n\u001b[32m    796\u001b[39m     \u001b[33m\"\u001b[39m\u001b[33mmodel\u001b[39m\u001b[33m\"\u001b[39m: model,\n\u001b[32m    797\u001b[39m     \u001b[33m\"\u001b[39m\u001b[33minstructions_override\u001b[39m\u001b[33m\"\u001b[39m: instructions_override,\n\u001b[32m   (...)\u001b[39m\u001b[32m    809\u001b[39m     \u001b[33m\"\u001b[39m\u001b[33mpolling_options\u001b[39m\u001b[33m\"\u001b[39m: polling_options,\n\u001b[32m    810\u001b[39m }\n\u001b[32m    811\u001b[39m run_level_params = {k: v \u001b[38;5;28;01mfor\u001b[39;00m k, v \u001b[38;5;129;01min\u001b[39;00m run_level_params.items() \u001b[38;5;28;01mif\u001b[39;00m v \u001b[38;5;129;01mis\u001b[39;00m \u001b[38;5;129;01mnot\u001b[39;00m \u001b[38;5;28;01mNone\u001b[39;00m}\n\u001b[32m--> \u001b[39m\u001b[32m813\u001b[39m \u001b[38;5;28;01masync\u001b[39;00m \u001b[38;5;28;01mfor\u001b[39;00m is_visible, message \u001b[38;5;129;01min\u001b[39;00m AgentThreadActions.invoke(\n\u001b[32m    814\u001b[39m     agent=\u001b[38;5;28mself\u001b[39m,\n\u001b[32m    815\u001b[39m     thread_id=thread.id,\n\u001b[32m    816\u001b[39m     kernel=kernel,\n\u001b[32m    817\u001b[39m     arguments=arguments,\n\u001b[32m    818\u001b[39m     **run_level_params,  \u001b[38;5;66;03m# type: ignore\u001b[39;00m\n\u001b[32m    819\u001b[39m ):\n\u001b[32m    820\u001b[39m     message.metadata[\u001b[33m\"\u001b[39m\u001b[33mthread_id\u001b[39m\u001b[33m\"\u001b[39m] = thread.id\n\u001b[32m    821\u001b[39m     \u001b[38;5;28;01mawait\u001b[39;00m thread.on_new_message(message)\n",
      "\u001b[36mFile \u001b[39m\u001b[32m~/projects/otis/ai-foundry-config-testing/.venv/lib/python3.11/site-packages/semantic_kernel/agents/azure_ai/agent_thread_actions.py:196\u001b[39m, in \u001b[36mAgentThreadActions.invoke\u001b[39m\u001b[34m(cls, agent, thread_id, arguments, kernel, model, instructions_override, additional_instructions, additional_messages, tools, temperature, top_p, max_prompt_tokens, max_completion_tokens, truncation_strategy, response_format, parallel_tool_calls, metadata, polling_options, **kwargs)\u001b[39m\n\u001b[32m    194\u001b[39m     \u001b[38;5;28;01mif\u001b[39;00m run.last_error \u001b[38;5;129;01mand\u001b[39;00m run.last_error.message:\n\u001b[32m    195\u001b[39m         error_message = run.last_error.message\n\u001b[32m--> \u001b[39m\u001b[32m196\u001b[39m     \u001b[38;5;28;01mraise\u001b[39;00m AgentInvokeException(\n\u001b[32m    197\u001b[39m         \u001b[33mf\u001b[39m\u001b[33m\"\u001b[39m\u001b[33mRun failed with status: `\u001b[39m\u001b[38;5;132;01m{\u001b[39;00mrun.status\u001b[38;5;132;01m}\u001b[39;00m\u001b[33m` for agent `\u001b[39m\u001b[38;5;132;01m{\u001b[39;00magent.name\u001b[38;5;132;01m}\u001b[39;00m\u001b[33m` and thread `\u001b[39m\u001b[38;5;132;01m{\u001b[39;00mthread_id\u001b[38;5;132;01m}\u001b[39;00m\u001b[33m` \u001b[39m\u001b[33m\"\u001b[39m\n\u001b[32m    198\u001b[39m         \u001b[33mf\u001b[39m\u001b[33m\"\u001b[39m\u001b[33mwith error: \u001b[39m\u001b[38;5;132;01m{\u001b[39;00merror_message\u001b[38;5;132;01m}\u001b[39;00m\u001b[33m\"\u001b[39m\n\u001b[32m    199\u001b[39m     )\n\u001b[32m    201\u001b[39m \u001b[38;5;66;03m# Check if function calling is required\u001b[39;00m\n\u001b[32m    202\u001b[39m \u001b[38;5;28;01mif\u001b[39;00m run.status == \u001b[33m\"\u001b[39m\u001b[33mrequires_action\u001b[39m\u001b[33m\"\u001b[39m \u001b[38;5;129;01mand\u001b[39;00m \u001b[38;5;28misinstance\u001b[39m(run.required_action, SubmitToolOutputsAction):\n",
      "\u001b[31mAgentInvokeException\u001b[39m: Run failed with status: `RunStatus.FAILED` for agent `Joe` and thread `thread_LRaVUhE0UrFSfhjFtxWlhkAt` with error: Failed to resolve model info for: gpt-4.1"
     ]
    }
   ],
   "source": [
    "input = \"Tell me a joke about Cloud Computing - AWS, GCP and Azure go into a bar.\"\n",
    "thread = AzureAIAgentThread(client=client)\n",
    "\n",
    "async for agent_response in agent.invoke(messages=input, thread=thread):\n",
    "    print(f\"Agent: {agent_response}\")"
   ]
  }
 ],
 "metadata": {
  "kernelspec": {
   "display_name": ".venv",
   "language": "python",
   "name": "python3"
  },
  "language_info": {
   "codemirror_mode": {
    "name": "ipython",
    "version": 3
   },
   "file_extension": ".py",
   "mimetype": "text/x-python",
   "name": "python",
   "nbconvert_exporter": "python",
   "pygments_lexer": "ipython3",
   "version": "3.11.11"
  }
 },
 "nbformat": 4,
 "nbformat_minor": 4
}
